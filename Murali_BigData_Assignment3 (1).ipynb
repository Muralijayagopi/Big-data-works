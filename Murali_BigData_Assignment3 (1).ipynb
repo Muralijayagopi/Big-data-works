{
  "cells": [
    {
      "cell_type": "markdown",
      "source": [
        "\n",
        "### Question: 2.\tVisualise the energy density of food purchases across LSOAs in winter (October-April) and in summer (May-September).\n",
        "#### a.\tIs there a difference between energy density according to season?\n",
        "####b.\tWhat about the ratio of sugar to fibre?\n"
      ],
      "metadata": {
        "id": "K4F9DQGw7lIm"
      }
    },
    {
      "cell_type": "markdown",
      "source": [
        "**INTRODUCTION**"
      ],
      "metadata": {
        "id": "xR16WaLfFNLc"
      }
    },
    {
      "cell_type": "markdown",
      "source": [
        "Importing the libraries"
      ],
      "metadata": {
        "id": "0eq7nec1FZAQ"
      }
    },
    {
      "cell_type": "code",
      "execution_count": 54,
      "metadata": {
        "id": "JzwkuH4zgJTc"
      },
      "outputs": [],
      "source": [
        "import pandas as pd\n",
        "import numpy as np\n",
        "import matplotlib.pyplot as plt\n",
        "import seaborn as sns\n",
        "from sklearn.model_selection import train_test_split\n",
        "from sklearn.ensemble import RandomForestClassifier\n",
        "from sklearn.metrics import accuracy_score, confusion_matrix"
      ]
    },
    {
      "cell_type": "markdown",
      "source": [
        "#1. Data description\n",
        "\n",
        "Importing the CSV files from Jan to dec while concating the datasets of month May - sep as Summer and the rest as Winter"
      ],
      "metadata": {
        "id": "pHFMYEuN_om5"
      }
    },
    {
      "cell_type": "markdown",
      "source": [
        "Uploading the CSV Files"
      ],
      "metadata": {
        "id": "IQ3GGebjFf6h"
      }
    },
    {
      "cell_type": "code",
      "source": [
        "# Read Monthly Datasets and store each month's data in a dictionary\n",
        "months = ['Jan', 'Feb', 'Mar', 'Apr', 'May', 'Jun',\n",
        "          'Jul', 'Aug', 'Sep', 'Oct', 'Nov', 'Dec']\n",
        "\n",
        "dfs = {}\n",
        "\n",
        "for month in months:\n",
        "    df = pd.read_csv(f'/content/{month}_lsoa_grocery.csv')  # Load each month's data\n",
        "    df.dropna(how='all', axis=1, inplace=True)               # Remove completely empty columns\n",
        "    dfs[month] = df                                           # Store cleaned dataframe in dictionary\n",
        "\n",
        "# Combine selected months into seasonal DataFrames\n",
        "winter_months = ['Oct', 'Nov', 'Dec', 'Jan', 'Feb', 'Mar', 'Apr']\n",
        "summer_months = ['May', 'Jun', 'Jul', 'Aug', 'Sep']\n",
        "\n",
        "df_winter = pd.concat([dfs[month] for month in winter_months])  # Combine winter months\n",
        "df_summer = pd.concat([dfs[month] for month in summer_months])  # Combine summer months"
      ],
      "metadata": {
        "id": "CA0ik84BtHfI"
      },
      "execution_count": 55,
      "outputs": []
    },
    {
      "cell_type": "markdown",
      "source": [
        "#2. Data Analysis"
      ],
      "metadata": {
        "id": "dhYId2CqSx9R"
      }
    },
    {
      "cell_type": "code",
      "execution_count": 56,
      "metadata": {
        "colab": {
          "base_uri": "https://localhost:8080/",
          "height": 255
        },
        "id": "6dfyBr5cnpvO",
        "outputId": "cd38588e-edf7-4546-c083-c9ddf5e9c4d0"
      },
      "outputs": [
        {
          "output_type": "execute_result",
          "data": {
            "text/plain": [
              "     area_id      weight  weight_perc2.5  weight_perc25  weight_perc50  \\\n",
              "0  E01000001  307.271023            35.0          150.0          250.0   \n",
              "1  E01000002  307.081007            36.0          150.0          250.0   \n",
              "2  E01000003  309.543246            35.0          150.0          250.0   \n",
              "3  E01000005  359.387067            35.0          160.0          296.0   \n",
              "4  E01000006  499.025263            32.5          166.8          325.0   \n",
              "\n",
              "   weight_perc75  weight_perc97.5  weight_std  weight_ci95      volume  ...  \\\n",
              "0          400.0            900.0  251.416793     7.646865   97.835883  ...   \n",
              "1          400.0            947.5  243.625824     9.665515   85.697304  ...   \n",
              "2          400.0           1000.0  244.341967     8.020125  104.987695  ...   \n",
              "3          450.0           1000.0  526.084169    10.564711  121.970138  ...   \n",
              "4          500.0           2000.0  868.792770    35.680224  125.403371  ...   \n",
              "\n",
              "   man_day  population    male  female  age_0_17  age_18_64  age_65+  \\\n",
              "0     1394      1296.0   685.0   611.0     179.0      766.0    351.0   \n",
              "1      627      1156.0   616.0   540.0     197.0      656.0    303.0   \n",
              "2     1258      1350.0   713.0   637.0     152.0      850.0    348.0   \n",
              "3     2153      1121.0   604.0   517.0     294.0      675.0    152.0   \n",
              "4      505      2040.0  1040.0  1000.0     563.0     1317.0    160.0   \n",
              "\n",
              "     avg_age  area_sq_km  people_per_sq_km  \n",
              "0  48.293981        0.13            9985.0  \n",
              "1  47.398789        0.23            5061.0  \n",
              "2  48.360741        0.06           22843.0  \n",
              "3  35.611954        0.19            5912.0  \n",
              "4  32.080392        0.15           13915.0  \n",
              "\n",
              "[5 rows x 202 columns]"
            ],
            "text/html": [
              "\n",
              "  <div id=\"df-e81de84c-e07b-42fa-85c4-0bc5154d6c79\" class=\"colab-df-container\">\n",
              "    <div>\n",
              "<style scoped>\n",
              "    .dataframe tbody tr th:only-of-type {\n",
              "        vertical-align: middle;\n",
              "    }\n",
              "\n",
              "    .dataframe tbody tr th {\n",
              "        vertical-align: top;\n",
              "    }\n",
              "\n",
              "    .dataframe thead th {\n",
              "        text-align: right;\n",
              "    }\n",
              "</style>\n",
              "<table border=\"1\" class=\"dataframe\">\n",
              "  <thead>\n",
              "    <tr style=\"text-align: right;\">\n",
              "      <th></th>\n",
              "      <th>area_id</th>\n",
              "      <th>weight</th>\n",
              "      <th>weight_perc2.5</th>\n",
              "      <th>weight_perc25</th>\n",
              "      <th>weight_perc50</th>\n",
              "      <th>weight_perc75</th>\n",
              "      <th>weight_perc97.5</th>\n",
              "      <th>weight_std</th>\n",
              "      <th>weight_ci95</th>\n",
              "      <th>volume</th>\n",
              "      <th>...</th>\n",
              "      <th>man_day</th>\n",
              "      <th>population</th>\n",
              "      <th>male</th>\n",
              "      <th>female</th>\n",
              "      <th>age_0_17</th>\n",
              "      <th>age_18_64</th>\n",
              "      <th>age_65+</th>\n",
              "      <th>avg_age</th>\n",
              "      <th>area_sq_km</th>\n",
              "      <th>people_per_sq_km</th>\n",
              "    </tr>\n",
              "  </thead>\n",
              "  <tbody>\n",
              "    <tr>\n",
              "      <th>0</th>\n",
              "      <td>E01000001</td>\n",
              "      <td>307.271023</td>\n",
              "      <td>35.0</td>\n",
              "      <td>150.0</td>\n",
              "      <td>250.0</td>\n",
              "      <td>400.0</td>\n",
              "      <td>900.0</td>\n",
              "      <td>251.416793</td>\n",
              "      <td>7.646865</td>\n",
              "      <td>97.835883</td>\n",
              "      <td>...</td>\n",
              "      <td>1394</td>\n",
              "      <td>1296.0</td>\n",
              "      <td>685.0</td>\n",
              "      <td>611.0</td>\n",
              "      <td>179.0</td>\n",
              "      <td>766.0</td>\n",
              "      <td>351.0</td>\n",
              "      <td>48.293981</td>\n",
              "      <td>0.13</td>\n",
              "      <td>9985.0</td>\n",
              "    </tr>\n",
              "    <tr>\n",
              "      <th>1</th>\n",
              "      <td>E01000002</td>\n",
              "      <td>307.081007</td>\n",
              "      <td>36.0</td>\n",
              "      <td>150.0</td>\n",
              "      <td>250.0</td>\n",
              "      <td>400.0</td>\n",
              "      <td>947.5</td>\n",
              "      <td>243.625824</td>\n",
              "      <td>9.665515</td>\n",
              "      <td>85.697304</td>\n",
              "      <td>...</td>\n",
              "      <td>627</td>\n",
              "      <td>1156.0</td>\n",
              "      <td>616.0</td>\n",
              "      <td>540.0</td>\n",
              "      <td>197.0</td>\n",
              "      <td>656.0</td>\n",
              "      <td>303.0</td>\n",
              "      <td>47.398789</td>\n",
              "      <td>0.23</td>\n",
              "      <td>5061.0</td>\n",
              "    </tr>\n",
              "    <tr>\n",
              "      <th>2</th>\n",
              "      <td>E01000003</td>\n",
              "      <td>309.543246</td>\n",
              "      <td>35.0</td>\n",
              "      <td>150.0</td>\n",
              "      <td>250.0</td>\n",
              "      <td>400.0</td>\n",
              "      <td>1000.0</td>\n",
              "      <td>244.341967</td>\n",
              "      <td>8.020125</td>\n",
              "      <td>104.987695</td>\n",
              "      <td>...</td>\n",
              "      <td>1258</td>\n",
              "      <td>1350.0</td>\n",
              "      <td>713.0</td>\n",
              "      <td>637.0</td>\n",
              "      <td>152.0</td>\n",
              "      <td>850.0</td>\n",
              "      <td>348.0</td>\n",
              "      <td>48.360741</td>\n",
              "      <td>0.06</td>\n",
              "      <td>22843.0</td>\n",
              "    </tr>\n",
              "    <tr>\n",
              "      <th>3</th>\n",
              "      <td>E01000005</td>\n",
              "      <td>359.387067</td>\n",
              "      <td>35.0</td>\n",
              "      <td>160.0</td>\n",
              "      <td>296.0</td>\n",
              "      <td>450.0</td>\n",
              "      <td>1000.0</td>\n",
              "      <td>526.084169</td>\n",
              "      <td>10.564711</td>\n",
              "      <td>121.970138</td>\n",
              "      <td>...</td>\n",
              "      <td>2153</td>\n",
              "      <td>1121.0</td>\n",
              "      <td>604.0</td>\n",
              "      <td>517.0</td>\n",
              "      <td>294.0</td>\n",
              "      <td>675.0</td>\n",
              "      <td>152.0</td>\n",
              "      <td>35.611954</td>\n",
              "      <td>0.19</td>\n",
              "      <td>5912.0</td>\n",
              "    </tr>\n",
              "    <tr>\n",
              "      <th>4</th>\n",
              "      <td>E01000006</td>\n",
              "      <td>499.025263</td>\n",
              "      <td>32.5</td>\n",
              "      <td>166.8</td>\n",
              "      <td>325.0</td>\n",
              "      <td>500.0</td>\n",
              "      <td>2000.0</td>\n",
              "      <td>868.792770</td>\n",
              "      <td>35.680224</td>\n",
              "      <td>125.403371</td>\n",
              "      <td>...</td>\n",
              "      <td>505</td>\n",
              "      <td>2040.0</td>\n",
              "      <td>1040.0</td>\n",
              "      <td>1000.0</td>\n",
              "      <td>563.0</td>\n",
              "      <td>1317.0</td>\n",
              "      <td>160.0</td>\n",
              "      <td>32.080392</td>\n",
              "      <td>0.15</td>\n",
              "      <td>13915.0</td>\n",
              "    </tr>\n",
              "  </tbody>\n",
              "</table>\n",
              "<p>5 rows × 202 columns</p>\n",
              "</div>\n",
              "    <div class=\"colab-df-buttons\">\n",
              "\n",
              "  <div class=\"colab-df-container\">\n",
              "    <button class=\"colab-df-convert\" onclick=\"convertToInteractive('df-e81de84c-e07b-42fa-85c4-0bc5154d6c79')\"\n",
              "            title=\"Convert this dataframe to an interactive table.\"\n",
              "            style=\"display:none;\">\n",
              "\n",
              "  <svg xmlns=\"http://www.w3.org/2000/svg\" height=\"24px\" viewBox=\"0 -960 960 960\">\n",
              "    <path d=\"M120-120v-720h720v720H120Zm60-500h600v-160H180v160Zm220 220h160v-160H400v160Zm0 220h160v-160H400v160ZM180-400h160v-160H180v160Zm440 0h160v-160H620v160ZM180-180h160v-160H180v160Zm440 0h160v-160H620v160Z\"/>\n",
              "  </svg>\n",
              "    </button>\n",
              "\n",
              "  <style>\n",
              "    .colab-df-container {\n",
              "      display:flex;\n",
              "      gap: 12px;\n",
              "    }\n",
              "\n",
              "    .colab-df-convert {\n",
              "      background-color: #E8F0FE;\n",
              "      border: none;\n",
              "      border-radius: 50%;\n",
              "      cursor: pointer;\n",
              "      display: none;\n",
              "      fill: #1967D2;\n",
              "      height: 32px;\n",
              "      padding: 0 0 0 0;\n",
              "      width: 32px;\n",
              "    }\n",
              "\n",
              "    .colab-df-convert:hover {\n",
              "      background-color: #E2EBFA;\n",
              "      box-shadow: 0px 1px 2px rgba(60, 64, 67, 0.3), 0px 1px 3px 1px rgba(60, 64, 67, 0.15);\n",
              "      fill: #174EA6;\n",
              "    }\n",
              "\n",
              "    .colab-df-buttons div {\n",
              "      margin-bottom: 4px;\n",
              "    }\n",
              "\n",
              "    [theme=dark] .colab-df-convert {\n",
              "      background-color: #3B4455;\n",
              "      fill: #D2E3FC;\n",
              "    }\n",
              "\n",
              "    [theme=dark] .colab-df-convert:hover {\n",
              "      background-color: #434B5C;\n",
              "      box-shadow: 0px 1px 3px 1px rgba(0, 0, 0, 0.15);\n",
              "      filter: drop-shadow(0px 1px 2px rgba(0, 0, 0, 0.3));\n",
              "      fill: #FFFFFF;\n",
              "    }\n",
              "  </style>\n",
              "\n",
              "    <script>\n",
              "      const buttonEl =\n",
              "        document.querySelector('#df-e81de84c-e07b-42fa-85c4-0bc5154d6c79 button.colab-df-convert');\n",
              "      buttonEl.style.display =\n",
              "        google.colab.kernel.accessAllowed ? 'block' : 'none';\n",
              "\n",
              "      async function convertToInteractive(key) {\n",
              "        const element = document.querySelector('#df-e81de84c-e07b-42fa-85c4-0bc5154d6c79');\n",
              "        const dataTable =\n",
              "          await google.colab.kernel.invokeFunction('convertToInteractive',\n",
              "                                                    [key], {});\n",
              "        if (!dataTable) return;\n",
              "\n",
              "        const docLinkHtml = 'Like what you see? Visit the ' +\n",
              "          '<a target=\"_blank\" href=https://colab.research.google.com/notebooks/data_table.ipynb>data table notebook</a>'\n",
              "          + ' to learn more about interactive tables.';\n",
              "        element.innerHTML = '';\n",
              "        dataTable['output_type'] = 'display_data';\n",
              "        await google.colab.output.renderOutput(dataTable, element);\n",
              "        const docLink = document.createElement('div');\n",
              "        docLink.innerHTML = docLinkHtml;\n",
              "        element.appendChild(docLink);\n",
              "      }\n",
              "    </script>\n",
              "  </div>\n",
              "\n",
              "\n",
              "<div id=\"df-5d53f009-989d-4ccf-b9e4-4c1da83cc66d\">\n",
              "  <button class=\"colab-df-quickchart\" onclick=\"quickchart('df-5d53f009-989d-4ccf-b9e4-4c1da83cc66d')\"\n",
              "            title=\"Suggest charts\"\n",
              "            style=\"display:none;\">\n",
              "\n",
              "<svg xmlns=\"http://www.w3.org/2000/svg\" height=\"24px\"viewBox=\"0 0 24 24\"\n",
              "     width=\"24px\">\n",
              "    <g>\n",
              "        <path d=\"M19 3H5c-1.1 0-2 .9-2 2v14c0 1.1.9 2 2 2h14c1.1 0 2-.9 2-2V5c0-1.1-.9-2-2-2zM9 17H7v-7h2v7zm4 0h-2V7h2v10zm4 0h-2v-4h2v4z\"/>\n",
              "    </g>\n",
              "</svg>\n",
              "  </button>\n",
              "\n",
              "<style>\n",
              "  .colab-df-quickchart {\n",
              "      --bg-color: #E8F0FE;\n",
              "      --fill-color: #1967D2;\n",
              "      --hover-bg-color: #E2EBFA;\n",
              "      --hover-fill-color: #174EA6;\n",
              "      --disabled-fill-color: #AAA;\n",
              "      --disabled-bg-color: #DDD;\n",
              "  }\n",
              "\n",
              "  [theme=dark] .colab-df-quickchart {\n",
              "      --bg-color: #3B4455;\n",
              "      --fill-color: #D2E3FC;\n",
              "      --hover-bg-color: #434B5C;\n",
              "      --hover-fill-color: #FFFFFF;\n",
              "      --disabled-bg-color: #3B4455;\n",
              "      --disabled-fill-color: #666;\n",
              "  }\n",
              "\n",
              "  .colab-df-quickchart {\n",
              "    background-color: var(--bg-color);\n",
              "    border: none;\n",
              "    border-radius: 50%;\n",
              "    cursor: pointer;\n",
              "    display: none;\n",
              "    fill: var(--fill-color);\n",
              "    height: 32px;\n",
              "    padding: 0;\n",
              "    width: 32px;\n",
              "  }\n",
              "\n",
              "  .colab-df-quickchart:hover {\n",
              "    background-color: var(--hover-bg-color);\n",
              "    box-shadow: 0 1px 2px rgba(60, 64, 67, 0.3), 0 1px 3px 1px rgba(60, 64, 67, 0.15);\n",
              "    fill: var(--button-hover-fill-color);\n",
              "  }\n",
              "\n",
              "  .colab-df-quickchart-complete:disabled,\n",
              "  .colab-df-quickchart-complete:disabled:hover {\n",
              "    background-color: var(--disabled-bg-color);\n",
              "    fill: var(--disabled-fill-color);\n",
              "    box-shadow: none;\n",
              "  }\n",
              "\n",
              "  .colab-df-spinner {\n",
              "    border: 2px solid var(--fill-color);\n",
              "    border-color: transparent;\n",
              "    border-bottom-color: var(--fill-color);\n",
              "    animation:\n",
              "      spin 1s steps(1) infinite;\n",
              "  }\n",
              "\n",
              "  @keyframes spin {\n",
              "    0% {\n",
              "      border-color: transparent;\n",
              "      border-bottom-color: var(--fill-color);\n",
              "      border-left-color: var(--fill-color);\n",
              "    }\n",
              "    20% {\n",
              "      border-color: transparent;\n",
              "      border-left-color: var(--fill-color);\n",
              "      border-top-color: var(--fill-color);\n",
              "    }\n",
              "    30% {\n",
              "      border-color: transparent;\n",
              "      border-left-color: var(--fill-color);\n",
              "      border-top-color: var(--fill-color);\n",
              "      border-right-color: var(--fill-color);\n",
              "    }\n",
              "    40% {\n",
              "      border-color: transparent;\n",
              "      border-right-color: var(--fill-color);\n",
              "      border-top-color: var(--fill-color);\n",
              "    }\n",
              "    60% {\n",
              "      border-color: transparent;\n",
              "      border-right-color: var(--fill-color);\n",
              "    }\n",
              "    80% {\n",
              "      border-color: transparent;\n",
              "      border-right-color: var(--fill-color);\n",
              "      border-bottom-color: var(--fill-color);\n",
              "    }\n",
              "    90% {\n",
              "      border-color: transparent;\n",
              "      border-bottom-color: var(--fill-color);\n",
              "    }\n",
              "  }\n",
              "</style>\n",
              "\n",
              "  <script>\n",
              "    async function quickchart(key) {\n",
              "      const quickchartButtonEl =\n",
              "        document.querySelector('#' + key + ' button');\n",
              "      quickchartButtonEl.disabled = true;  // To prevent multiple clicks.\n",
              "      quickchartButtonEl.classList.add('colab-df-spinner');\n",
              "      try {\n",
              "        const charts = await google.colab.kernel.invokeFunction(\n",
              "            'suggestCharts', [key], {});\n",
              "      } catch (error) {\n",
              "        console.error('Error during call to suggestCharts:', error);\n",
              "      }\n",
              "      quickchartButtonEl.classList.remove('colab-df-spinner');\n",
              "      quickchartButtonEl.classList.add('colab-df-quickchart-complete');\n",
              "    }\n",
              "    (() => {\n",
              "      let quickchartButtonEl =\n",
              "        document.querySelector('#df-5d53f009-989d-4ccf-b9e4-4c1da83cc66d button');\n",
              "      quickchartButtonEl.style.display =\n",
              "        google.colab.kernel.accessAllowed ? 'block' : 'none';\n",
              "    })();\n",
              "  </script>\n",
              "</div>\n",
              "\n",
              "    </div>\n",
              "  </div>\n"
            ],
            "application/vnd.google.colaboratory.intrinsic+json": {
              "type": "dataframe",
              "variable_name": "df_winter"
            }
          },
          "metadata": {},
          "execution_count": 56
        }
      ],
      "source": [
        "df_winter.head()"
      ]
    },
    {
      "cell_type": "code",
      "source": [
        "for c in df_winter.columns:\n",
        "  print(c)"
      ],
      "metadata": {
        "colab": {
          "base_uri": "https://localhost:8080/"
        },
        "id": "clmMX--9WQ6p",
        "outputId": "29520edb-241f-4f6d-908e-0c4ec8e639b1"
      },
      "execution_count": 57,
      "outputs": [
        {
          "output_type": "stream",
          "name": "stdout",
          "text": [
            "area_id\n",
            "weight\n",
            "weight_perc2.5\n",
            "weight_perc25\n",
            "weight_perc50\n",
            "weight_perc75\n",
            "weight_perc97.5\n",
            "weight_std\n",
            "weight_ci95\n",
            "volume\n",
            "volume_perc2.5\n",
            "volume_perc25\n",
            "volume_perc50\n",
            "volume_perc75\n",
            "volume_perc97.5\n",
            "volume_std\n",
            "volume_ci95\n",
            "fat\n",
            "fat_perc2.5\n",
            "fat_perc25\n",
            "fat_perc50\n",
            "fat_perc75\n",
            "fat_perc97.5\n",
            "fat_std\n",
            "fat_ci95\n",
            "saturate\n",
            "saturate_perc2.5\n",
            "saturate_perc25\n",
            "saturate_perc50\n",
            "saturate_perc75\n",
            "saturate_perc97.5\n",
            "saturate_std\n",
            "saturate_ci95\n",
            "salt\n",
            "salt_perc2.5\n",
            "salt_perc25\n",
            "salt_perc50\n",
            "salt_perc75\n",
            "salt_perc97.5\n",
            "salt_std\n",
            "salt_ci95\n",
            "sugar\n",
            "sugar_perc2.5\n",
            "sugar_perc25\n",
            "sugar_perc50\n",
            "sugar_perc75\n",
            "sugar_perc97.5\n",
            "sugar_std\n",
            "sugar_ci95\n",
            "protein\n",
            "protein_perc2.5\n",
            "protein_perc25\n",
            "protein_perc50\n",
            "protein_perc75\n",
            "protein_perc97.5\n",
            "protein_std\n",
            "protein_ci95\n",
            "carb\n",
            "carb_perc2.5\n",
            "carb_perc25\n",
            "carb_perc50\n",
            "carb_perc75\n",
            "carb_perc97.5\n",
            "carb_std\n",
            "carb_ci95\n",
            "fibre\n",
            "fibre_perc2.5\n",
            "fibre_perc25\n",
            "fibre_perc50\n",
            "fibre_perc75\n",
            "fibre_perc97.5\n",
            "fibre_std\n",
            "fibre_ci95\n",
            "alcohol\n",
            "alcohol_perc2.5\n",
            "alcohol_perc25\n",
            "alcohol_perc50\n",
            "alcohol_perc75\n",
            "alcohol_perc97.5\n",
            "alcohol_std\n",
            "alcohol_ci95\n",
            "energy_fat\n",
            "energy_fat_perc2.5\n",
            "energy_fat_perc25\n",
            "energy_fat_perc50\n",
            "energy_fat_perc75\n",
            "energy_fat_perc97.5\n",
            "energy_fat_std\n",
            "energy_fat_ci95\n",
            "energy_saturate\n",
            "energy_saturate_perc2.5\n",
            "energy_saturate_perc25\n",
            "energy_saturate_perc50\n",
            "energy_saturate_perc75\n",
            "energy_saturate_perc97.5\n",
            "energy_saturate_std\n",
            "energy_saturate_ci95\n",
            "energy_sugar\n",
            "energy_sugar_perc2.5\n",
            "energy_sugar_perc25\n",
            "energy_sugar_perc50\n",
            "energy_sugar_perc75\n",
            "energy_sugar_perc97.5\n",
            "energy_sugar_std\n",
            "energy_sugar_ci95\n",
            "energy_protein\n",
            "energy_protein_perc2.5\n",
            "energy_protein_perc25\n",
            "energy_protein_perc50\n",
            "energy_protein_perc75\n",
            "energy_protein_perc97.5\n",
            "energy_protein_std\n",
            "energy_protein_ci95\n",
            "energy_carb\n",
            "energy_carb_perc2.5\n",
            "energy_carb_perc25\n",
            "energy_carb_perc50\n",
            "energy_carb_perc75\n",
            "energy_carb_perc97.5\n",
            "energy_carb_std\n",
            "energy_carb_ci95\n",
            "energy_fibre\n",
            "energy_fibre_perc2.5\n",
            "energy_fibre_perc25\n",
            "energy_fibre_perc50\n",
            "energy_fibre_perc75\n",
            "energy_fibre_perc97.5\n",
            "energy_fibre_std\n",
            "energy_fibre_ci95\n",
            "energy_alcohol\n",
            "energy_alcohol_perc2.5\n",
            "energy_alcohol_perc25\n",
            "energy_alcohol_perc50\n",
            "energy_alcohol_perc75\n",
            "energy_alcohol_perc97.5\n",
            "energy_alcohol_std\n",
            "energy_alcohol_ci95\n",
            "energy_tot\n",
            "energy_tot_perc2.5\n",
            "energy_tot_perc25\n",
            "energy_tot_perc50\n",
            "energy_tot_perc75\n",
            "energy_tot_perc97.5\n",
            "energy_tot_std\n",
            "energy_tot_ci95\n",
            "f_energy_fat\n",
            "f_energy_saturate\n",
            "f_energy_sugar\n",
            "f_energy_protein\n",
            "f_energy_carb\n",
            "f_energy_fibre\n",
            "f_energy_alcohol\n",
            "energy_density\n",
            "h_nutrients_weight\n",
            "h_nutrients_weight_norm\n",
            "h_nutrients_calories\n",
            "h_nutrients_calories_norm\n",
            "f_beer\n",
            "f_dairy\n",
            "f_eggs\n",
            "f_fats_oils\n",
            "f_fish\n",
            "f_fruit_veg\n",
            "f_grains\n",
            "f_meat_red\n",
            "f_poultry\n",
            "f_readymade\n",
            "f_sauces\n",
            "f_soft_drinks\n",
            "f_spirits\n",
            "f_sweets\n",
            "f_tea_coffee\n",
            "f_water\n",
            "f_wine\n",
            "f_dairy_weight\n",
            "f_eggs_weight\n",
            "f_fats_oils_weight\n",
            "f_fish_weight\n",
            "f_fruit_veg_weight\n",
            "f_grains_weight\n",
            "f_meat_red_weight\n",
            "f_poultry_weight\n",
            "f_readymade_weight\n",
            "f_sauces_weight\n",
            "f_sweets_weight\n",
            "h_items\n",
            "h_items_norm\n",
            "h_items_weight\n",
            "h_items_weight_norm\n",
            "representativeness_norm\n",
            "transaction_days\n",
            "num_transactions\n",
            "man_day\n",
            "population\n",
            "male\n",
            "female\n",
            "age_0_17\n",
            "age_18_64\n",
            "age_65+\n",
            "avg_age\n",
            "area_sq_km\n",
            "people_per_sq_km\n"
          ]
        }
      ]
    },
    {
      "cell_type": "code",
      "source": [
        "df_winter.describe()"
      ],
      "metadata": {
        "colab": {
          "base_uri": "https://localhost:8080/",
          "height": 349
        },
        "id": "vtP8lytFS5Jv",
        "outputId": "a248cc9a-7eab-48ea-eb66-93efb2eb29c1"
      },
      "execution_count": 58,
      "outputs": [
        {
          "output_type": "execute_result",
          "data": {
            "text/plain": [
              "             weight  weight_perc2.5  weight_perc25  weight_perc50  \\\n",
              "count  30048.000000    30048.000000   30048.000000   30048.000000   \n",
              "mean     382.696738       35.618247     160.858891     291.601709   \n",
              "std       52.581182        6.156202      23.663529      41.351692   \n",
              "min       83.185669        2.000000      41.500000      50.000000   \n",
              "25%      347.171023       32.000000     150.000000     255.000000   \n",
              "50%      383.669706       35.425000     160.000000     300.000000   \n",
              "75%      417.073453       40.000000     180.000000     320.000000   \n",
              "max      980.027778      100.000000     500.000000    1000.000000   \n",
              "\n",
              "       weight_perc75  weight_perc97.5    weight_std   weight_ci95  \\\n",
              "count   30048.000000     30048.000000  30048.000000  30048.000000   \n",
              "mean      473.613068      1177.609592    442.424884     17.434016   \n",
              "std        45.844489       322.815361    155.139406     11.438134   \n",
              "min        52.000000       425.000000    122.255388      2.792254   \n",
              "25%       450.000000      1000.000000    335.911214      9.719162   \n",
              "50%       500.000000      1000.000000    409.984273     14.407105   \n",
              "75%       500.000000      1500.000000    508.779682     21.920336   \n",
              "max      1500.000000     10000.000000   2463.643323    277.135381   \n",
              "\n",
              "             volume  volume_perc2.5  ...       man_day    population  \\\n",
              "count  30048.000000    30048.000000  ...  30048.000000  30048.000000   \n",
              "mean     112.527048       16.094010  ...   1022.167499   1806.347344   \n",
              "std       18.490665        4.915164  ...    947.148020    371.586770   \n",
              "min       44.642105        2.500000  ...     37.000000    802.000000   \n",
              "25%      100.393041       11.125000  ...    350.000000   1588.000000   \n",
              "50%      110.595357       15.000000  ...    736.000000   1743.000000   \n",
              "75%      122.724288       18.707812  ...   1364.000000   1954.000000   \n",
              "max      284.416679      113.600000  ...   8161.000000   9551.000000   \n",
              "\n",
              "               male        female      age_0_17     age_18_64       age_65+  \\\n",
              "count  30048.000000  30048.000000  30048.000000  30048.000000  30048.000000   \n",
              "mean     898.528854    907.818490    405.386315   1199.845447    201.115582   \n",
              "std      202.884384    181.842763    134.468971    311.898457     80.039036   \n",
              "min      458.000000    309.000000     51.000000    591.000000     19.000000   \n",
              "25%      775.000000    803.000000    317.000000   1008.000000    144.000000   \n",
              "50%      862.000000    882.000000    387.000000   1140.000000    189.000000   \n",
              "75%      981.000000    984.000000    477.000000   1327.000000    247.000000   \n",
              "max     5138.000000   4413.000000   1789.000000   7548.000000    732.000000   \n",
              "\n",
              "            avg_age    area_sq_km  people_per_sq_km  \n",
              "count  30048.000000  30048.000000      30048.000000  \n",
              "mean      35.949621      0.298797      10649.570121  \n",
              "std        3.590309      0.548966       6696.158354  \n",
              "min       25.015936      0.020000        125.000000  \n",
              "25%       33.507061      0.130000       5845.000000  \n",
              "50%       35.572436      0.190000       9402.000000  \n",
              "75%       38.070707      0.300000      14235.000000  \n",
              "max       55.253532     15.800000      91775.000000  \n",
              "\n",
              "[8 rows x 201 columns]"
            ],
            "text/html": [
              "\n",
              "  <div id=\"df-12510201-08a6-4b97-b4f3-8b48424a57f7\" class=\"colab-df-container\">\n",
              "    <div>\n",
              "<style scoped>\n",
              "    .dataframe tbody tr th:only-of-type {\n",
              "        vertical-align: middle;\n",
              "    }\n",
              "\n",
              "    .dataframe tbody tr th {\n",
              "        vertical-align: top;\n",
              "    }\n",
              "\n",
              "    .dataframe thead th {\n",
              "        text-align: right;\n",
              "    }\n",
              "</style>\n",
              "<table border=\"1\" class=\"dataframe\">\n",
              "  <thead>\n",
              "    <tr style=\"text-align: right;\">\n",
              "      <th></th>\n",
              "      <th>weight</th>\n",
              "      <th>weight_perc2.5</th>\n",
              "      <th>weight_perc25</th>\n",
              "      <th>weight_perc50</th>\n",
              "      <th>weight_perc75</th>\n",
              "      <th>weight_perc97.5</th>\n",
              "      <th>weight_std</th>\n",
              "      <th>weight_ci95</th>\n",
              "      <th>volume</th>\n",
              "      <th>volume_perc2.5</th>\n",
              "      <th>...</th>\n",
              "      <th>man_day</th>\n",
              "      <th>population</th>\n",
              "      <th>male</th>\n",
              "      <th>female</th>\n",
              "      <th>age_0_17</th>\n",
              "      <th>age_18_64</th>\n",
              "      <th>age_65+</th>\n",
              "      <th>avg_age</th>\n",
              "      <th>area_sq_km</th>\n",
              "      <th>people_per_sq_km</th>\n",
              "    </tr>\n",
              "  </thead>\n",
              "  <tbody>\n",
              "    <tr>\n",
              "      <th>count</th>\n",
              "      <td>30048.000000</td>\n",
              "      <td>30048.000000</td>\n",
              "      <td>30048.000000</td>\n",
              "      <td>30048.000000</td>\n",
              "      <td>30048.000000</td>\n",
              "      <td>30048.000000</td>\n",
              "      <td>30048.000000</td>\n",
              "      <td>30048.000000</td>\n",
              "      <td>30048.000000</td>\n",
              "      <td>30048.000000</td>\n",
              "      <td>...</td>\n",
              "      <td>30048.000000</td>\n",
              "      <td>30048.000000</td>\n",
              "      <td>30048.000000</td>\n",
              "      <td>30048.000000</td>\n",
              "      <td>30048.000000</td>\n",
              "      <td>30048.000000</td>\n",
              "      <td>30048.000000</td>\n",
              "      <td>30048.000000</td>\n",
              "      <td>30048.000000</td>\n",
              "      <td>30048.000000</td>\n",
              "    </tr>\n",
              "    <tr>\n",
              "      <th>mean</th>\n",
              "      <td>382.696738</td>\n",
              "      <td>35.618247</td>\n",
              "      <td>160.858891</td>\n",
              "      <td>291.601709</td>\n",
              "      <td>473.613068</td>\n",
              "      <td>1177.609592</td>\n",
              "      <td>442.424884</td>\n",
              "      <td>17.434016</td>\n",
              "      <td>112.527048</td>\n",
              "      <td>16.094010</td>\n",
              "      <td>...</td>\n",
              "      <td>1022.167499</td>\n",
              "      <td>1806.347344</td>\n",
              "      <td>898.528854</td>\n",
              "      <td>907.818490</td>\n",
              "      <td>405.386315</td>\n",
              "      <td>1199.845447</td>\n",
              "      <td>201.115582</td>\n",
              "      <td>35.949621</td>\n",
              "      <td>0.298797</td>\n",
              "      <td>10649.570121</td>\n",
              "    </tr>\n",
              "    <tr>\n",
              "      <th>std</th>\n",
              "      <td>52.581182</td>\n",
              "      <td>6.156202</td>\n",
              "      <td>23.663529</td>\n",
              "      <td>41.351692</td>\n",
              "      <td>45.844489</td>\n",
              "      <td>322.815361</td>\n",
              "      <td>155.139406</td>\n",
              "      <td>11.438134</td>\n",
              "      <td>18.490665</td>\n",
              "      <td>4.915164</td>\n",
              "      <td>...</td>\n",
              "      <td>947.148020</td>\n",
              "      <td>371.586770</td>\n",
              "      <td>202.884384</td>\n",
              "      <td>181.842763</td>\n",
              "      <td>134.468971</td>\n",
              "      <td>311.898457</td>\n",
              "      <td>80.039036</td>\n",
              "      <td>3.590309</td>\n",
              "      <td>0.548966</td>\n",
              "      <td>6696.158354</td>\n",
              "    </tr>\n",
              "    <tr>\n",
              "      <th>min</th>\n",
              "      <td>83.185669</td>\n",
              "      <td>2.000000</td>\n",
              "      <td>41.500000</td>\n",
              "      <td>50.000000</td>\n",
              "      <td>52.000000</td>\n",
              "      <td>425.000000</td>\n",
              "      <td>122.255388</td>\n",
              "      <td>2.792254</td>\n",
              "      <td>44.642105</td>\n",
              "      <td>2.500000</td>\n",
              "      <td>...</td>\n",
              "      <td>37.000000</td>\n",
              "      <td>802.000000</td>\n",
              "      <td>458.000000</td>\n",
              "      <td>309.000000</td>\n",
              "      <td>51.000000</td>\n",
              "      <td>591.000000</td>\n",
              "      <td>19.000000</td>\n",
              "      <td>25.015936</td>\n",
              "      <td>0.020000</td>\n",
              "      <td>125.000000</td>\n",
              "    </tr>\n",
              "    <tr>\n",
              "      <th>25%</th>\n",
              "      <td>347.171023</td>\n",
              "      <td>32.000000</td>\n",
              "      <td>150.000000</td>\n",
              "      <td>255.000000</td>\n",
              "      <td>450.000000</td>\n",
              "      <td>1000.000000</td>\n",
              "      <td>335.911214</td>\n",
              "      <td>9.719162</td>\n",
              "      <td>100.393041</td>\n",
              "      <td>11.125000</td>\n",
              "      <td>...</td>\n",
              "      <td>350.000000</td>\n",
              "      <td>1588.000000</td>\n",
              "      <td>775.000000</td>\n",
              "      <td>803.000000</td>\n",
              "      <td>317.000000</td>\n",
              "      <td>1008.000000</td>\n",
              "      <td>144.000000</td>\n",
              "      <td>33.507061</td>\n",
              "      <td>0.130000</td>\n",
              "      <td>5845.000000</td>\n",
              "    </tr>\n",
              "    <tr>\n",
              "      <th>50%</th>\n",
              "      <td>383.669706</td>\n",
              "      <td>35.425000</td>\n",
              "      <td>160.000000</td>\n",
              "      <td>300.000000</td>\n",
              "      <td>500.000000</td>\n",
              "      <td>1000.000000</td>\n",
              "      <td>409.984273</td>\n",
              "      <td>14.407105</td>\n",
              "      <td>110.595357</td>\n",
              "      <td>15.000000</td>\n",
              "      <td>...</td>\n",
              "      <td>736.000000</td>\n",
              "      <td>1743.000000</td>\n",
              "      <td>862.000000</td>\n",
              "      <td>882.000000</td>\n",
              "      <td>387.000000</td>\n",
              "      <td>1140.000000</td>\n",
              "      <td>189.000000</td>\n",
              "      <td>35.572436</td>\n",
              "      <td>0.190000</td>\n",
              "      <td>9402.000000</td>\n",
              "    </tr>\n",
              "    <tr>\n",
              "      <th>75%</th>\n",
              "      <td>417.073453</td>\n",
              "      <td>40.000000</td>\n",
              "      <td>180.000000</td>\n",
              "      <td>320.000000</td>\n",
              "      <td>500.000000</td>\n",
              "      <td>1500.000000</td>\n",
              "      <td>508.779682</td>\n",
              "      <td>21.920336</td>\n",
              "      <td>122.724288</td>\n",
              "      <td>18.707812</td>\n",
              "      <td>...</td>\n",
              "      <td>1364.000000</td>\n",
              "      <td>1954.000000</td>\n",
              "      <td>981.000000</td>\n",
              "      <td>984.000000</td>\n",
              "      <td>477.000000</td>\n",
              "      <td>1327.000000</td>\n",
              "      <td>247.000000</td>\n",
              "      <td>38.070707</td>\n",
              "      <td>0.300000</td>\n",
              "      <td>14235.000000</td>\n",
              "    </tr>\n",
              "    <tr>\n",
              "      <th>max</th>\n",
              "      <td>980.027778</td>\n",
              "      <td>100.000000</td>\n",
              "      <td>500.000000</td>\n",
              "      <td>1000.000000</td>\n",
              "      <td>1500.000000</td>\n",
              "      <td>10000.000000</td>\n",
              "      <td>2463.643323</td>\n",
              "      <td>277.135381</td>\n",
              "      <td>284.416679</td>\n",
              "      <td>113.600000</td>\n",
              "      <td>...</td>\n",
              "      <td>8161.000000</td>\n",
              "      <td>9551.000000</td>\n",
              "      <td>5138.000000</td>\n",
              "      <td>4413.000000</td>\n",
              "      <td>1789.000000</td>\n",
              "      <td>7548.000000</td>\n",
              "      <td>732.000000</td>\n",
              "      <td>55.253532</td>\n",
              "      <td>15.800000</td>\n",
              "      <td>91775.000000</td>\n",
              "    </tr>\n",
              "  </tbody>\n",
              "</table>\n",
              "<p>8 rows × 201 columns</p>\n",
              "</div>\n",
              "    <div class=\"colab-df-buttons\">\n",
              "\n",
              "  <div class=\"colab-df-container\">\n",
              "    <button class=\"colab-df-convert\" onclick=\"convertToInteractive('df-12510201-08a6-4b97-b4f3-8b48424a57f7')\"\n",
              "            title=\"Convert this dataframe to an interactive table.\"\n",
              "            style=\"display:none;\">\n",
              "\n",
              "  <svg xmlns=\"http://www.w3.org/2000/svg\" height=\"24px\" viewBox=\"0 -960 960 960\">\n",
              "    <path d=\"M120-120v-720h720v720H120Zm60-500h600v-160H180v160Zm220 220h160v-160H400v160Zm0 220h160v-160H400v160ZM180-400h160v-160H180v160Zm440 0h160v-160H620v160ZM180-180h160v-160H180v160Zm440 0h160v-160H620v160Z\"/>\n",
              "  </svg>\n",
              "    </button>\n",
              "\n",
              "  <style>\n",
              "    .colab-df-container {\n",
              "      display:flex;\n",
              "      gap: 12px;\n",
              "    }\n",
              "\n",
              "    .colab-df-convert {\n",
              "      background-color: #E8F0FE;\n",
              "      border: none;\n",
              "      border-radius: 50%;\n",
              "      cursor: pointer;\n",
              "      display: none;\n",
              "      fill: #1967D2;\n",
              "      height: 32px;\n",
              "      padding: 0 0 0 0;\n",
              "      width: 32px;\n",
              "    }\n",
              "\n",
              "    .colab-df-convert:hover {\n",
              "      background-color: #E2EBFA;\n",
              "      box-shadow: 0px 1px 2px rgba(60, 64, 67, 0.3), 0px 1px 3px 1px rgba(60, 64, 67, 0.15);\n",
              "      fill: #174EA6;\n",
              "    }\n",
              "\n",
              "    .colab-df-buttons div {\n",
              "      margin-bottom: 4px;\n",
              "    }\n",
              "\n",
              "    [theme=dark] .colab-df-convert {\n",
              "      background-color: #3B4455;\n",
              "      fill: #D2E3FC;\n",
              "    }\n",
              "\n",
              "    [theme=dark] .colab-df-convert:hover {\n",
              "      background-color: #434B5C;\n",
              "      box-shadow: 0px 1px 3px 1px rgba(0, 0, 0, 0.15);\n",
              "      filter: drop-shadow(0px 1px 2px rgba(0, 0, 0, 0.3));\n",
              "      fill: #FFFFFF;\n",
              "    }\n",
              "  </style>\n",
              "\n",
              "    <script>\n",
              "      const buttonEl =\n",
              "        document.querySelector('#df-12510201-08a6-4b97-b4f3-8b48424a57f7 button.colab-df-convert');\n",
              "      buttonEl.style.display =\n",
              "        google.colab.kernel.accessAllowed ? 'block' : 'none';\n",
              "\n",
              "      async function convertToInteractive(key) {\n",
              "        const element = document.querySelector('#df-12510201-08a6-4b97-b4f3-8b48424a57f7');\n",
              "        const dataTable =\n",
              "          await google.colab.kernel.invokeFunction('convertToInteractive',\n",
              "                                                    [key], {});\n",
              "        if (!dataTable) return;\n",
              "\n",
              "        const docLinkHtml = 'Like what you see? Visit the ' +\n",
              "          '<a target=\"_blank\" href=https://colab.research.google.com/notebooks/data_table.ipynb>data table notebook</a>'\n",
              "          + ' to learn more about interactive tables.';\n",
              "        element.innerHTML = '';\n",
              "        dataTable['output_type'] = 'display_data';\n",
              "        await google.colab.output.renderOutput(dataTable, element);\n",
              "        const docLink = document.createElement('div');\n",
              "        docLink.innerHTML = docLinkHtml;\n",
              "        element.appendChild(docLink);\n",
              "      }\n",
              "    </script>\n",
              "  </div>\n",
              "\n",
              "\n",
              "<div id=\"df-c61ffb0e-2ad6-4039-9bba-747a7bfb28da\">\n",
              "  <button class=\"colab-df-quickchart\" onclick=\"quickchart('df-c61ffb0e-2ad6-4039-9bba-747a7bfb28da')\"\n",
              "            title=\"Suggest charts\"\n",
              "            style=\"display:none;\">\n",
              "\n",
              "<svg xmlns=\"http://www.w3.org/2000/svg\" height=\"24px\"viewBox=\"0 0 24 24\"\n",
              "     width=\"24px\">\n",
              "    <g>\n",
              "        <path d=\"M19 3H5c-1.1 0-2 .9-2 2v14c0 1.1.9 2 2 2h14c1.1 0 2-.9 2-2V5c0-1.1-.9-2-2-2zM9 17H7v-7h2v7zm4 0h-2V7h2v10zm4 0h-2v-4h2v4z\"/>\n",
              "    </g>\n",
              "</svg>\n",
              "  </button>\n",
              "\n",
              "<style>\n",
              "  .colab-df-quickchart {\n",
              "      --bg-color: #E8F0FE;\n",
              "      --fill-color: #1967D2;\n",
              "      --hover-bg-color: #E2EBFA;\n",
              "      --hover-fill-color: #174EA6;\n",
              "      --disabled-fill-color: #AAA;\n",
              "      --disabled-bg-color: #DDD;\n",
              "  }\n",
              "\n",
              "  [theme=dark] .colab-df-quickchart {\n",
              "      --bg-color: #3B4455;\n",
              "      --fill-color: #D2E3FC;\n",
              "      --hover-bg-color: #434B5C;\n",
              "      --hover-fill-color: #FFFFFF;\n",
              "      --disabled-bg-color: #3B4455;\n",
              "      --disabled-fill-color: #666;\n",
              "  }\n",
              "\n",
              "  .colab-df-quickchart {\n",
              "    background-color: var(--bg-color);\n",
              "    border: none;\n",
              "    border-radius: 50%;\n",
              "    cursor: pointer;\n",
              "    display: none;\n",
              "    fill: var(--fill-color);\n",
              "    height: 32px;\n",
              "    padding: 0;\n",
              "    width: 32px;\n",
              "  }\n",
              "\n",
              "  .colab-df-quickchart:hover {\n",
              "    background-color: var(--hover-bg-color);\n",
              "    box-shadow: 0 1px 2px rgba(60, 64, 67, 0.3), 0 1px 3px 1px rgba(60, 64, 67, 0.15);\n",
              "    fill: var(--button-hover-fill-color);\n",
              "  }\n",
              "\n",
              "  .colab-df-quickchart-complete:disabled,\n",
              "  .colab-df-quickchart-complete:disabled:hover {\n",
              "    background-color: var(--disabled-bg-color);\n",
              "    fill: var(--disabled-fill-color);\n",
              "    box-shadow: none;\n",
              "  }\n",
              "\n",
              "  .colab-df-spinner {\n",
              "    border: 2px solid var(--fill-color);\n",
              "    border-color: transparent;\n",
              "    border-bottom-color: var(--fill-color);\n",
              "    animation:\n",
              "      spin 1s steps(1) infinite;\n",
              "  }\n",
              "\n",
              "  @keyframes spin {\n",
              "    0% {\n",
              "      border-color: transparent;\n",
              "      border-bottom-color: var(--fill-color);\n",
              "      border-left-color: var(--fill-color);\n",
              "    }\n",
              "    20% {\n",
              "      border-color: transparent;\n",
              "      border-left-color: var(--fill-color);\n",
              "      border-top-color: var(--fill-color);\n",
              "    }\n",
              "    30% {\n",
              "      border-color: transparent;\n",
              "      border-left-color: var(--fill-color);\n",
              "      border-top-color: var(--fill-color);\n",
              "      border-right-color: var(--fill-color);\n",
              "    }\n",
              "    40% {\n",
              "      border-color: transparent;\n",
              "      border-right-color: var(--fill-color);\n",
              "      border-top-color: var(--fill-color);\n",
              "    }\n",
              "    60% {\n",
              "      border-color: transparent;\n",
              "      border-right-color: var(--fill-color);\n",
              "    }\n",
              "    80% {\n",
              "      border-color: transparent;\n",
              "      border-right-color: var(--fill-color);\n",
              "      border-bottom-color: var(--fill-color);\n",
              "    }\n",
              "    90% {\n",
              "      border-color: transparent;\n",
              "      border-bottom-color: var(--fill-color);\n",
              "    }\n",
              "  }\n",
              "</style>\n",
              "\n",
              "  <script>\n",
              "    async function quickchart(key) {\n",
              "      const quickchartButtonEl =\n",
              "        document.querySelector('#' + key + ' button');\n",
              "      quickchartButtonEl.disabled = true;  // To prevent multiple clicks.\n",
              "      quickchartButtonEl.classList.add('colab-df-spinner');\n",
              "      try {\n",
              "        const charts = await google.colab.kernel.invokeFunction(\n",
              "            'suggestCharts', [key], {});\n",
              "      } catch (error) {\n",
              "        console.error('Error during call to suggestCharts:', error);\n",
              "      }\n",
              "      quickchartButtonEl.classList.remove('colab-df-spinner');\n",
              "      quickchartButtonEl.classList.add('colab-df-quickchart-complete');\n",
              "    }\n",
              "    (() => {\n",
              "      let quickchartButtonEl =\n",
              "        document.querySelector('#df-c61ffb0e-2ad6-4039-9bba-747a7bfb28da button');\n",
              "      quickchartButtonEl.style.display =\n",
              "        google.colab.kernel.accessAllowed ? 'block' : 'none';\n",
              "    })();\n",
              "  </script>\n",
              "</div>\n",
              "\n",
              "    </div>\n",
              "  </div>\n"
            ],
            "application/vnd.google.colaboratory.intrinsic+json": {
              "type": "dataframe"
            }
          },
          "metadata": {},
          "execution_count": 58
        }
      ]
    },
    {
      "cell_type": "code",
      "source": [
        "df_summer.info()"
      ],
      "metadata": {
        "colab": {
          "base_uri": "https://localhost:8080/"
        },
        "id": "tfFc9gKnS-ol",
        "outputId": "86fedd62-0ce2-455c-ba39-f57713dd69c3"
      },
      "execution_count": 59,
      "outputs": [
        {
          "output_type": "stream",
          "name": "stdout",
          "text": [
            "<class 'pandas.core.frame.DataFrame'>\n",
            "Index: 21247 entries, 0 to 4209\n",
            "Columns: 202 entries, area_id to people_per_sq_km\n",
            "dtypes: float64(199), int64(2), object(1)\n",
            "memory usage: 32.9+ MB\n"
          ]
        }
      ]
    },
    {
      "cell_type": "markdown",
      "source": [
        "#3. Data Processing Implementation Plan"
      ],
      "metadata": {
        "id": "uHdHItm_SiFw"
      }
    },
    {
      "cell_type": "code",
      "source": [
        "# Add 'season' column to identify winter and summer data\n",
        "df_winter['season'] = 'Winter'\n",
        "df_summer['season'] = 'Summer'\n",
        "\n",
        "# Combine both seasons into a single DataFrame for further processing\n",
        "df = pd.concat([df_winter, df_summer])\n",
        "\n",
        "# Convert key columns to numeric type (to ensure they are ready for analysis/modeling)\n",
        "numeric_cols = ['energy_density', 'sugar', 'fibre']\n",
        "for col in numeric_cols:\n",
        "    df[col] = pd.to_numeric(df[col], errors='coerce')  # Coerce non-numeric values into NaN\n",
        "\n",
        "# Fill missing values with the median of each column (a common strategy for numerical data)\n",
        "df.fillna({\n",
        "    'energy_density': df['energy_density'].median(),\n",
        "    'sugar': df['sugar'].median(),\n",
        "    'fibre': df['fibre'].median()\n",
        "}, inplace=True)"
      ],
      "metadata": {
        "id": "qR4BrCeMJc0R"
      },
      "execution_count": 60,
      "outputs": []
    },
    {
      "cell_type": "code",
      "source": [
        "# Create a new column: sugar-to-fibre ratio (helps understand nutritional profile)\n",
        "df['sugar_to_fibre_ratio'] = df['sugar'] / df['fibre']\n",
        "\n",
        "# Fix infinite values (from dividing by zero) by replacing with max sugar value\n",
        "df['sugar_to_fibre_ratio'].replace([np.inf, -np.inf], df['sugar'].max(), inplace=True)\n",
        "\n",
        "# Fill any missing values in the ratio column with its median value\n",
        "df['sugar_to_fibre_ratio'].fillna(df['sugar_to_fibre_ratio'].median(), inplace=True)"
      ],
      "metadata": {
        "colab": {
          "base_uri": "https://localhost:8080/"
        },
        "id": "n0y8DSLVJier",
        "outputId": "34208d98-301e-4597-9beb-4fed152a3273"
      },
      "execution_count": 61,
      "outputs": [
        {
          "output_type": "stream",
          "name": "stderr",
          "text": [
            "<ipython-input-61-1d4ea2a6987f>:5: FutureWarning: A value is trying to be set on a copy of a DataFrame or Series through chained assignment using an inplace method.\n",
            "The behavior will change in pandas 3.0. This inplace method will never work because the intermediate object on which we are setting values always behaves as a copy.\n",
            "\n",
            "For example, when doing 'df[col].method(value, inplace=True)', try using 'df.method({col: value}, inplace=True)' or df[col] = df[col].method(value) instead, to perform the operation inplace on the original object.\n",
            "\n",
            "\n",
            "  df['sugar_to_fibre_ratio'].replace([np.inf, -np.inf], df['sugar'].max(), inplace=True)\n",
            "<ipython-input-61-1d4ea2a6987f>:8: FutureWarning: A value is trying to be set on a copy of a DataFrame or Series through chained assignment using an inplace method.\n",
            "The behavior will change in pandas 3.0. This inplace method will never work because the intermediate object on which we are setting values always behaves as a copy.\n",
            "\n",
            "For example, when doing 'df[col].method(value, inplace=True)', try using 'df.method({col: value}, inplace=True)' or df[col] = df[col].method(value) instead, to perform the operation inplace on the original object.\n",
            "\n",
            "\n",
            "  df['sugar_to_fibre_ratio'].fillna(df['sugar_to_fibre_ratio'].median(), inplace=True)\n"
          ]
        }
      ]
    },
    {
      "cell_type": "code",
      "source": [
        "# Calculate average energy density by season (for visualization 1)\n",
        "energy_by_season = df.groupby('season')['energy_density'].mean().reset_index()"
      ],
      "metadata": {
        "id": "k0Id9OkNM-YZ"
      },
      "execution_count": 62,
      "outputs": []
    },
    {
      "cell_type": "markdown",
      "source": [
        "#4. Data Visualization"
      ],
      "metadata": {
        "id": "hJKII3jdRbL0"
      }
    },
    {
      "cell_type": "markdown",
      "source": [
        "### VISUALIZATION 1: Energy Density Bar Plot"
      ],
      "metadata": {
        "id": "i60ja0eFOra2"
      }
    },
    {
      "cell_type": "code",
      "source": [
        "# Set the figure size for the bar plot\n",
        "plt.figure(figsize=(10, 6))\n",
        "\n",
        "# Create a bar plot to compare energy density by season\n",
        "sns.barplot(x='season', y='energy_density', data=energy_by_season, palette='viridis')\n",
        "\n",
        "# Add title and labels to the plot\n",
        "plt.title('Average Energy Density by Season', fontsize=14)\n",
        "plt.xlabel('Season', fontsize=12)\n",
        "plt.ylabel('Energy Density (kcal)', fontsize=12)\n",
        "\n",
        "# Add grid lines for better readability\n",
        "plt.grid(True, linestyle='--', alpha=0.7)\n",
        "\n",
        "# Save the plot as a PNG image\n",
        "plt.savefig('energy_density_comparison.png')\n",
        "\n",
        "# Display the plot\n",
        "plt.show()"
      ],
      "metadata": {
        "colab": {
          "base_uri": "https://localhost:8080/",
          "height": 680
        },
        "id": "AOykruaxJnFM",
        "outputId": "210ce19e-b4c2-4d78-9c01-7075561f84a5"
      },
      "execution_count": 63,
      "outputs": [
        {
          "output_type": "stream",
          "name": "stderr",
          "text": [
            "<ipython-input-63-a314091c0ea3>:5: FutureWarning: \n",
            "\n",
            "Passing `palette` without assigning `hue` is deprecated and will be removed in v0.14.0. Assign the `x` variable to `hue` and set `legend=False` for the same effect.\n",
            "\n",
            "  sns.barplot(x='season', y='energy_density', data=energy_by_season, palette='viridis')\n"
          ]
        },
        {
          "output_type": "display_data",
          "data": {
            "text/plain": [
              "<Figure size 1000x600 with 1 Axes>"
            ],
            "image/png": "[encoded data removed]"
          },
          "metadata": {}
        }
      ]
    },
    {
      "cell_type": "markdown",
      "source": [
        "### VISUALIZATION 2: Sugar to Fibre Ratio Box Plot"
      ],
      "metadata": {
        "id": "T2wb9AuJOnnx"
      }
    },
    {
      "cell_type": "code",
      "source": [
        "# Set the figure size for the box plot\n",
        "plt.figure(figsize=(10, 6))\n",
        "\n",
        "# Create a box plot to show the distribution of sugar to fibre ratio by season\n",
        "sns.boxplot(x='season', y='sugar_to_fibre_ratio', data=df, palette='Set2')\n",
        "\n",
        "# Add title and labels to the plot\n",
        "plt.title('Sugar to Fibre Ratio Distribution by Season', fontsize=14)\n",
        "plt.xlabel('Season', fontsize=12)\n",
        "plt.ylabel('Sugar to Fibre Ratio', fontsize=12)\n",
        "\n",
        "# Add grid lines for clarity\n",
        "plt.grid(True, linestyle='--', alpha=0.7)\n",
        "\n",
        "# Save the plot as a PNG image\n",
        "plt.savefig('sugar_fibre_ratio_boxplot.png')\n",
        "\n",
        "# Display the plot\n",
        "plt.show()"
      ],
      "metadata": {
        "colab": {
          "base_uri": "https://localhost:8080/",
          "height": 680
        },
        "id": "bYoUrBXKKKHc",
        "outputId": "7fc71315-a45f-4a59-ab37-207c65f991d9"
      },
      "execution_count": 64,
      "outputs": [
        {
          "output_type": "stream",
          "name": "stderr",
          "text": [
            "<ipython-input-64-983afe529541>:5: FutureWarning: \n",
            "\n",
            "Passing `palette` without assigning `hue` is deprecated and will be removed in v0.14.0. Assign the `x` variable to `hue` and set `legend=False` for the same effect.\n",
            "\n",
            "  sns.boxplot(x='season', y='sugar_to_fibre_ratio', data=df, palette='Set2')\n"
          ]
        },
        {
          "output_type": "display_data",
          "data": {
            "text/plain": [
              "<Figure size 1000x600 with 1 Axes>"
            ],
            "image/png": "[encoded data removed]"
          },
          "metadata": {}
        }
      ]
    },
    {
      "cell_type": "markdown",
      "source": [
        "##MACHINE LEARNING ANALYSIS"
      ],
      "metadata": {
        "id": "NsZLacZPOXuN"
      }
    },
    {
      "cell_type": "code",
      "source": [
        "# Prepare features and target for ML\n",
        "features = df[['energy_density', 'sugar_to_fibre_ratio']]\n",
        "target = df['season'].map({'Winter': 1, 'Summer': 0})\n",
        "\n",
        "# Split data into training and testing sets\n",
        "X_train, X_test, y_train, y_test = train_test_split(\n",
        "    features, target, test_size=0.3, random_state=42\n",
        ")\n"
      ],
      "metadata": {
        "id": "sqshx4RQJn5q"
      },
      "execution_count": 65,
      "outputs": []
    },
    {
      "cell_type": "markdown",
      "source": [
        "## Random Forest Classifier"
      ],
      "metadata": {
        "id": "ysnkCxXZOfLm"
      }
    },
    {
      "cell_type": "code",
      "source": [
        "# Train a Random Forest Classifier\n",
        "rf_model = RandomForestClassifier(n_estimators=100, random_state=42)\n",
        "rf_model.fit(X_train, y_train)\n",
        "\n",
        "# Make predictions\n",
        "y_pred = rf_model.predict(X_test)"
      ],
      "metadata": {
        "id": "k2tL1f-uOcqx"
      },
      "execution_count": 66,
      "outputs": []
    },
    {
      "cell_type": "markdown",
      "source": [
        "## Accuracy"
      ],
      "metadata": {
        "id": "74ppq713NcgL"
      }
    },
    {
      "cell_type": "code",
      "source": [
        "# Calculate accuracy of the model and print it\n",
        "accuracy = accuracy_score(y_test, y_pred) * 100\n",
        "print(f\"Random Forest Classification Accuracy: {accuracy:.2f}%\")\n",
        "\n",
        "# Extract feature importance and organize it in a DataFrame\n",
        "feature_importance = pd.DataFrame({\n",
        "    'Feature': features.columns,\n",
        "    'Importance': rf_model.feature_importances_\n",
        "})\n",
        "\n",
        "# Sort features by importance in descending order\n",
        "feature_importance = feature_importance.sort_values(by='Importance', ascending=False)\n",
        "\n",
        "# Print the feature importance\n",
        "print(\"\\nFeature Importance:\")\n",
        "print(feature_importance)"
      ],
      "metadata": {
        "colab": {
          "base_uri": "https://localhost:8080/"
        },
        "id": "sE-6cKCFNaxw",
        "outputId": "06bc96a0-08d8-4dd6-c1b1-5d1852e29c53"
      },
      "execution_count": 67,
      "outputs": [
        {
          "output_type": "stream",
          "name": "stdout",
          "text": [
            "Random Forest Classification Accuracy: 55.07%\n",
            "\n",
            "Feature Importance:\n",
            "                Feature  Importance\n",
            "1  sugar_to_fibre_ratio    0.506173\n",
            "0        energy_density    0.493827\n"
          ]
        }
      ]
    },
    {
      "cell_type": "markdown",
      "source": [
        "### VISUALIZATION 3: Feature Importance Bar Chart"
      ],
      "metadata": {
        "id": "RU7zRRTbOOe_"
      }
    },
    {
      "cell_type": "code",
      "source": [
        "# Set the figure size for the bar plot\n",
        "plt.figure(figsize=(10, 6))\n",
        "\n",
        "# Create a bar plot to show feature importance\n",
        "sns.barplot(x='Importance', y='Feature', data=feature_importance, palette='viridis')\n",
        "\n",
        "# Add title and labels to the plot\n",
        "plt.title('Feature Importance for Season Classification', fontsize=14)\n",
        "plt.xlabel('Importance', fontsize=12)\n",
        "plt.ylabel('Feature', fontsize=12)\n",
        "\n",
        "# Add grid lines for better readability\n",
        "plt.grid(True, linestyle='--', alpha=0.7)\n",
        "\n",
        "# Save the plot as a PNG image\n",
        "plt.savefig('feature_importance.png')\n",
        "\n",
        "# Display the plot\n",
        "plt.show()"
      ],
      "metadata": {
        "colab": {
          "base_uri": "https://localhost:8080/",
          "height": 680
        },
        "id": "h5ARGgadJ_wS",
        "outputId": "3c7ca69f-5398-4709-e401-df1aa71d5213"
      },
      "execution_count": 68,
      "outputs": [
        {
          "output_type": "stream",
          "name": "stderr",
          "text": [
            "<ipython-input-68-779f5fbdfbd5>:5: FutureWarning: \n",
            "\n",
            "Passing `palette` without assigning `hue` is deprecated and will be removed in v0.14.0. Assign the `y` variable to `hue` and set `legend=False` for the same effect.\n",
            "\n",
            "  sns.barplot(x='Importance', y='Feature', data=feature_importance, palette='viridis')\n"
          ]
        },
        {
          "output_type": "display_data",
          "data": {
            "text/plain": [
              "<Figure size 1000x600 with 1 Axes>"
            ],
            "image/png": "[encoded data removed]"
          },
          "metadata": {}
        }
      ]
    },
    {
      "cell_type": "markdown",
      "source": [
        "###VISUALIZATION 4: Confusion Matrix Heatmap\n",
        "\n",
        "Confusion matrix tracks classification accuracy"
      ],
      "metadata": {
        "id": "rNEtdsN6OAb3"
      }
    },
    {
      "cell_type": "code",
      "source": [
        "# Set the figure size for the plot\n",
        "plt.figure(figsize=(8, 6))\n",
        "\n",
        "# Generate the confusion matrix\n",
        "cm = confusion_matrix(y_test, y_pred)\n",
        "\n",
        "# Create a heatmap to visualize the matrix\n",
        "sns.heatmap(cm, annot=True, fmt='d', cmap='Blues',\n",
        "            xticklabels=['Summer', 'Winter'],  # Label for predicted seasons\n",
        "            yticklabels=['Summer', 'Winter'])  # Label for actual seasons\n",
        "\n",
        "# Add title and labels to the plot\n",
        "plt.title('Confusion Matrix for Season Prediction', fontsize=14)\n",
        "plt.xlabel('Predicted Season', fontsize=12)\n",
        "plt.ylabel('Actual Season', fontsize=12)\n",
        "\n",
        "# Save the plot as a PNG image\n",
        "plt.savefig('confusion_matrix.png')\n",
        "\n",
        "# Display the plot\n",
        "plt.show()"
      ],
      "metadata": {
        "colab": {
          "base_uri": "https://localhost:8080/",
          "height": 569
        },
        "id": "aAj1kG3jKBgN",
        "outputId": "aea7dae0-4efd-40df-b679-aa66a7066f8b"
      },
      "execution_count": 69,
      "outputs": [
        {
          "output_type": "display_data",
          "data": {
            "text/plain": [
              "<Figure size 800x600 with 2 Axes>"
            ],
            "image/png": "[encoded data removed]"
          },
          "metadata": {}
        }
      ]
    },
    {
      "cell_type": "markdown",
      "source": [
        "##Result"
      ],
      "metadata": {
        "id": "6eErCEraOKGP"
      }
    },
    {
      "cell_type": "code",
      "source": [
        "# Print a summary of the results\n",
        "print(\"\\n--- Summary of Results ---\")\n",
        "\n",
        "# Display average energy density for Winter and Summer\n",
        "print(f\"Average Energy Density in Winter: {df[df['season']=='Winter']['energy_density'].mean():.2f} kcal\")\n",
        "print(f\"Average Energy Density in Summer: {df[df['season']=='Summer']['energy_density'].mean():.2f} kcal\")\n",
        "\n",
        "# Display average sugar to fibre ratio for Winter and Summer\n",
        "print(f\"Average Sugar/Fibre Ratio in Winter: {df[df['season']=='Winter']['sugar_to_fibre_ratio'].mean():.2f}\")\n",
        "print(f\"Average Sugar/Fibre Ratio in Summer: {df[df['season']=='Summer']['sugar_to_fibre_ratio'].mean():.2f}\")\n",
        "\n",
        "# Print the ML classification accuracy\n",
        "print(f\"ML Classification Accuracy: {accuracy:.2f}%\")\n",
        "\n",
        "# Display the most important feature and its importance\n",
        "print(f\"Most Important Feature: {feature_importance.iloc[0]['Feature']} (Importance: {feature_importance.iloc[0]['Importance']:.4f})\")"
      ],
      "metadata": {
        "colab": {
          "base_uri": "https://localhost:8080/"
        },
        "id": "jj4ZULSFJ8QV",
        "outputId": "d7d9472a-fd79-41e9-a56c-3794a253dd8f"
      },
      "execution_count": 70,
      "outputs": [
        {
          "output_type": "stream",
          "name": "stdout",
          "text": [
            "\n",
            "--- Summary of Results ---\n",
            "Average Energy Density in Winter: 0.49 kcal\n",
            "Average Energy Density in Summer: 0.48 kcal\n",
            "Average Sugar/Fibre Ratio in Winter: 6.43\n",
            "Average Sugar/Fibre Ratio in Summer: 6.15\n",
            "ML Classification Accuracy: 55.07%\n",
            "Most Important Feature: sugar_to_fibre_ratio (Importance: 0.5062)\n"
          ]
        }
      ]
    },
    {
      "cell_type": "markdown",
      "source": [
        "#Implementing Spark"
      ],
      "metadata": {
        "id": "tqb1PCN7XbUC"
      }
    },
    {
      "cell_type": "markdown",
      "source": [
        "###Install SPARK"
      ],
      "metadata": {
        "id": "MXactpurba7l"
      }
    },
    {
      "cell_type": "code",
      "source": [
        "!pip install pyspark\n"
      ],
      "metadata": {
        "id": "w3plv7YJKOUf",
        "colab": {
          "base_uri": "https://localhost:8080/"
        },
        "outputId": "31160757-f28a-484f-a297-ce3cc7374e67"
      },
      "execution_count": 71,
      "outputs": [
        {
          "output_type": "stream",
          "name": "stdout",
          "text": [
            "Requirement already satisfied: pyspark in /usr/local/lib/python3.11/dist-packages (3.5.5)\n",
            "Requirement already satisfied: py4j==0.10.9.7 in /usr/local/lib/python3.11/dist-packages (from pyspark) (0.10.9.7)\n"
          ]
        }
      ]
    },
    {
      "cell_type": "markdown",
      "source": [
        "#1. Data description\n",
        "\n",
        "Importing the CSV files from Jan to dec while concating the datasets of month May - sep as Summer and the rest as Winter"
      ],
      "metadata": {
        "id": "MTKPCjF7bRVn"
      }
    },
    {
      "cell_type": "code",
      "source": [
        "from pyspark.sql import SparkSession\n",
        "from pyspark.sql import functions as F\n",
        "from pyspark.sql.types import DoubleType, StringType\n",
        "from pyspark.ml.feature import VectorAssembler\n",
        "from pyspark.ml.classification import RandomForestClassifier\n",
        "from pyspark.ml.evaluation import MulticlassClassificationEvaluator\n",
        "import matplotlib.pyplot as plt\n",
        "import seaborn as sns\n",
        "import numpy as np\n",
        "import pandas as pd"
      ],
      "metadata": {
        "id": "YZaWywiSKORE"
      },
      "execution_count": 72,
      "outputs": []
    },
    {
      "cell_type": "code",
      "source": [
        "# Initialize Spark Session\n",
        "spark = SparkSession.builder \\\n",
        "    .appName(\"Grocery Analysis\") \\\n",
        "    .getOrCreate()"
      ],
      "metadata": {
        "id": "7FD1zHf1KOOq"
      },
      "execution_count": 73,
      "outputs": []
    },
    {
      "cell_type": "markdown",
      "source": [
        "#2. Data Analysis"
      ],
      "metadata": {
        "id": "zh4ApNaqbRVo"
      }
    },
    {
      "cell_type": "code",
      "source": [
        "# Step 1: Read Monthly Datasets\n",
        "months = ['Jan', 'Feb', 'Mar', 'Apr', 'May', 'Jun', 'Jul', 'Aug', 'Sep', 'Oct', 'Nov', 'Dec']\n",
        "dfs = {}\n",
        "\n",
        "# Loop through each month and read the corresponding CSV file\n",
        "for month in months:\n",
        "    # Read CSV into Spark DataFrame with header and inferred schema\n",
        "    df = spark.read.csv(f'/content/{month}_lsoa_grocery.csv', header=True, inferSchema=True)\n",
        "\n",
        "    # Drop columns where all values are null\n",
        "    for col_name in df.columns:\n",
        "        # Escape column names with backticks if necessary\n",
        "        escaped_col_name = f\"`{col_name}`\"\n",
        "\n",
        "        # Check if the column has any non-null values\n",
        "        if df.filter(F.col(escaped_col_name).isNotNull()).count() == 0:\n",
        "            df = df.drop(col_name)\n",
        "\n",
        "    # Store the cleaned DataFrame in the dictionary\n",
        "    dfs[month] = df\n"
      ],
      "metadata": {
        "id": "mNEUoeWKKOMD"
      },
      "execution_count": 74,
      "outputs": []
    },
    {
      "cell_type": "code",
      "source": [
        "# Define months for winter and summer\n",
        "winter_months = ['Oct', 'Nov', 'Dec', 'Jan', 'Feb', 'Mar', 'Apr']\n",
        "summer_months = ['May', 'Jun', 'Jul', 'Aug', 'Sep']\n",
        "\n",
        "# Initialize empty DataFrames for winter and summer\n",
        "df_winter = None\n",
        "df_summer = None\n",
        "\n",
        "# Combine data for winter months\n",
        "for month in winter_months:\n",
        "    if df_winter is None:\n",
        "        df_winter = dfs[month]\n",
        "    else:\n",
        "        df_winter = df_winter.union(dfs[month])\n",
        "\n",
        "# Combine data for summer months\n",
        "for month in summer_months:\n",
        "    if df_summer is None:\n",
        "        df_summer = dfs[month]\n",
        "    else:\n",
        "        df_summer = df_summer.union(dfs[month])"
      ],
      "metadata": {
        "id": "s4aYHiWVYELn"
      },
      "execution_count": 75,
      "outputs": []
    },
    {
      "cell_type": "markdown",
      "source": [
        "#3. Data Processing Implementation Plan"
      ],
      "metadata": {
        "id": "mWcJGLfPbRVo"
      }
    },
    {
      "cell_type": "code",
      "source": [
        "# Add a new column to identify the season\n",
        "df_winter = df_winter.withColumn(\"season\", F.lit(\"Winter\"))\n",
        "df_summer = df_summer.withColumn(\"season\", F.lit(\"Summer\"))\n",
        "\n",
        "# Combine both winter and summer DataFrames into one\n",
        "df = df_winter.union(df_summer)\n",
        "\n",
        "# Ensure numerical columns are properly formatted\n",
        "numeric_cols = ['energy_density', 'sugar', 'fibre']\n",
        "\n",
        "for col in numeric_cols:\n",
        "    df = df.withColumn(col, F.col(col).cast(DoubleType()))"
      ],
      "metadata": {
        "id": "ytI2hoT8YEII"
      },
      "execution_count": 76,
      "outputs": []
    },
    {
      "cell_type": "code",
      "source": [
        "# Calculate medians for imputation\n",
        "energy_median = df.select(F.percentile_approx(\"energy_density\", 0.5).alias(\"energy_median\")).collect()[0][\"energy_median\"]\n",
        "sugar_median = df.select(F.percentile_approx(\"sugar\", 0.5).alias(\"sugar_median\")).collect()[0][\"sugar_median\"]\n",
        "fibre_median = df.select(F.percentile_approx(\"fibre\", 0.5).alias(\"fibre_median\")).collect()[0][\"fibre_median\"]"
      ],
      "metadata": {
        "id": "UFZrRQnmYEF6"
      },
      "execution_count": 77,
      "outputs": []
    },
    {
      "cell_type": "code",
      "source": [
        "# Handle missing values by filling with the calculated medians\n",
        "df = df.fillna({\n",
        "    'energy_density': energy_median,\n",
        "    'sugar': sugar_median,\n",
        "    'fibre': fibre_median\n",
        "})"
      ],
      "metadata": {
        "id": "p_7FwZZ6YEDf"
      },
      "execution_count": 78,
      "outputs": []
    },
    {
      "cell_type": "code",
      "source": [
        "# Create a new column for sugar to fibre ratio\n",
        "df = df.withColumn('sugar_to_fibre_ratio', F.col('sugar') / F.col('fibre'))\n",
        "\n",
        "# Get the maximum sugar value for handling infinity\n",
        "sugar_max = df.agg(F.max('sugar').alias('sugar_max')).collect()[0]['sugar_max']\n",
        "\n",
        "# Replace infinite or NaN values in the sugar to fibre ratio with the maximum sugar value\n",
        "df = df.withColumn(\n",
        "    'sugar_to_fibre_ratio',\n",
        "    F.when(\n",
        "        (F.col('sugar_to_fibre_ratio') == float('inf')) |\n",
        "        (F.col('sugar_to_fibre_ratio') == float('-inf')) |\n",
        "        F.isnan(F.col('sugar_to_fibre_ratio')),\n",
        "        sugar_max\n",
        "    ).otherwise(F.col('sugar_to_fibre_ratio'))\n",
        ")\n"
      ],
      "metadata": {
        "id": "87wA1ADnYEBD"
      },
      "execution_count": 79,
      "outputs": []
    },
    {
      "cell_type": "code",
      "source": [
        "# Calculate the median of the sugar to fibre ratio for imputation\n",
        "ratio_median = df.select(F.percentile_approx(\"sugar_to_fibre_ratio\", 0.5).alias(\"ratio_median\")).collect()[0][\"ratio_median\"]\n",
        "df = df.fillna({'sugar_to_fibre_ratio': ratio_median})\n",
        "\n",
        "# Calculate the average energy density by season (for visualization 1)\n",
        "energy_by_season = df.groupBy('season').agg(F.avg('energy_density').alias('energy_density')).toPandas()\n",
        "\n",
        "# Convert the DataFrame to pandas for visualization\n",
        "df_pd = df.toPandas()"
      ],
      "metadata": {
        "id": "SB6BERQJYZ2r"
      },
      "execution_count": 80,
      "outputs": []
    },
    {
      "cell_type": "markdown",
      "source": [
        "#4. Data Visualization"
      ],
      "metadata": {
        "id": "hiUSQRaabRVo"
      }
    },
    {
      "cell_type": "markdown",
      "source": [
        "### VISUALIZATION 1: Energy Density Bar Plot"
      ],
      "metadata": {
        "id": "dP4KQ_-4bRVo"
      }
    },
    {
      "cell_type": "code",
      "source": [
        "# Set the figure size for the bar plot\n",
        "plt.figure(figsize=(10, 6))\n",
        "\n",
        "# Create a bar plot to compare average energy density by season\n",
        "sns.barplot(x='season', y='energy_density', data=energy_by_season, palette='viridis')\n",
        "\n",
        "# Add title and labels to the plot\n",
        "plt.title('Average Energy Density by Season', fontsize=14)\n",
        "plt.xlabel('Season', fontsize=12)\n",
        "plt.ylabel('Energy Density (kcal)', fontsize=12)\n",
        "\n",
        "# Add grid lines for better readability\n",
        "plt.grid(True, linestyle='--', alpha=0.7)\n",
        "\n",
        "# Save the plot as a PNG image\n",
        "plt.savefig('energy_density_comparison.png')\n",
        "\n",
        "# Display the plot\n",
        "plt.show()"
      ],
      "metadata": {
        "colab": {
          "base_uri": "https://localhost:8080/",
          "height": 680
        },
        "id": "vsehcgclZt8D",
        "outputId": "f19dac51-8893-4d17-ccde-45d86951d772"
      },
      "execution_count": 81,
      "outputs": [
        {
          "output_type": "stream",
          "name": "stderr",
          "text": [
            "<ipython-input-81-053db2b94750>:5: FutureWarning: \n",
            "\n",
            "Passing `palette` without assigning `hue` is deprecated and will be removed in v0.14.0. Assign the `x` variable to `hue` and set `legend=False` for the same effect.\n",
            "\n",
            "  sns.barplot(x='season', y='energy_density', data=energy_by_season, palette='viridis')\n"
          ]
        },
        {
          "output_type": "display_data",
          "data": {
            "text/plain": [
              "<Figure size 1000x600 with 1 Axes>"
            ],
            "image/png": "[encoded data removed]"
          },
          "metadata": {}
        }
      ]
    },
    {
      "cell_type": "markdown",
      "source": [
        "### VISUALIZATION 2: Sugar to Fibre Ratio Box Plot"
      ],
      "metadata": {
        "id": "ww-HLX-cbRVo"
      }
    },
    {
      "cell_type": "code",
      "source": [
        "# Set the figure size for the box plot\n",
        "plt.figure(figsize=(10, 6))\n",
        "\n",
        "# Create a box plot to show the distribution of sugar to fibre ratio by season\n",
        "sns.boxplot(x='season', y='sugar_to_fibre_ratio', data=df_pd, palette='Set2')\n",
        "\n",
        "# Add title and labels to the plot\n",
        "plt.title('Sugar to Fibre Ratio Distribution by Season', fontsize=14)\n",
        "plt.xlabel('Season', fontsize=12)\n",
        "plt.ylabel('Sugar to Fibre Ratio', fontsize=12)\n",
        "\n",
        "# Add grid lines for better readability\n",
        "plt.grid(True, linestyle='--', alpha=0.7)\n",
        "\n",
        "# Save the plot as a PNG image\n",
        "plt.savefig('sugar_fibre_ratio_boxplot.png')\n",
        "\n",
        "# Display the plot\n",
        "plt.show()"
      ],
      "metadata": {
        "colab": {
          "base_uri": "https://localhost:8080/",
          "height": 680
        },
        "id": "2jWu74HRZvez",
        "outputId": "2d817ff9-a260-478e-cc25-05ee6a01b094"
      },
      "execution_count": 82,
      "outputs": [
        {
          "output_type": "stream",
          "name": "stderr",
          "text": [
            "<ipython-input-82-ad1990337a76>:5: FutureWarning: \n",
            "\n",
            "Passing `palette` without assigning `hue` is deprecated and will be removed in v0.14.0. Assign the `x` variable to `hue` and set `legend=False` for the same effect.\n",
            "\n",
            "  sns.boxplot(x='season', y='sugar_to_fibre_ratio', data=df_pd, palette='Set2')\n"
          ]
        },
        {
          "output_type": "display_data",
          "data": {
            "text/plain": [
              "<Figure size 1000x600 with 1 Axes>"
            ],
            "image/png": "[encoded data removed]"
          },
          "metadata": {}
        }
      ]
    },
    {
      "cell_type": "markdown",
      "source": [
        "##MACHINE LEARNING ANALYSIS"
      ],
      "metadata": {
        "id": "0r3HxVR7bRVo"
      }
    },
    {
      "cell_type": "code",
      "source": [
        "# Add a new column 'season_label' where Winter is labeled as 1 and other seasons as 0\n",
        "df = df.withColumn('season_label', F.when(F.col('season') == 'Winter', 1.0).otherwise(0.0))\n",
        "\n",
        "# Prepare features for machine learning using VectorAssembler\n",
        "feature_cols = ['energy_density', 'sugar_to_fibre_ratio']\n",
        "assembler = VectorAssembler(inputCols=feature_cols, outputCol='features')\n",
        "df_assembled = assembler.transform(df)\n",
        "\n",
        "# Split the data into training (70%) and testing (30%) sets\n",
        "train_df, test_df = df_assembled.randomSplit([0.7, 0.3], seed=42)"
      ],
      "metadata": {
        "id": "pgMMt7LyYZzU"
      },
      "execution_count": 83,
      "outputs": []
    },
    {
      "cell_type": "markdown",
      "source": [
        "## Random Forest Classifier"
      ],
      "metadata": {
        "id": "hiBbKeLsbRVo"
      }
    },
    {
      "cell_type": "code",
      "source": [
        "# Train a Random Forest Classifier with 100 trees\n",
        "rf = RandomForestClassifier(labelCol='season_label', featuresCol='features', numTrees=100, seed=42)\n",
        "rf_model = rf.fit(train_df)\n",
        "\n",
        "# Make predictions on the test set\n",
        "predictions = rf_model.transform(test_df)"
      ],
      "metadata": {
        "id": "OxGQeZBZd5bn"
      },
      "execution_count": 84,
      "outputs": []
    },
    {
      "cell_type": "markdown",
      "source": [
        "## Accuracy"
      ],
      "metadata": {
        "id": "bI7TRAcSbRVo"
      }
    },
    {
      "cell_type": "code",
      "source": [
        "# Calculate accuracy of the Random Forest model\n",
        "evaluator = MulticlassClassificationEvaluator(\n",
        "    labelCol='season_label',\n",
        "    predictionCol='prediction',\n",
        "    metricName='accuracy'\n",
        ")\n",
        "accuracy = evaluator.evaluate(predictions) * 100\n",
        "print(f\"Random Forest Classification Accuracy: {accuracy:.2f}%\")\n",
        "\n",
        "# Get feature importance from the Random Forest model\n",
        "feature_importance = pd.DataFrame({\n",
        "    'Feature': feature_cols,\n",
        "    'Importance': rf_model.featureImportances.toArray()\n",
        "})\n",
        "\n",
        "# Sort features by importance in descending order\n",
        "feature_importance = feature_importance.sort_values(by='Importance', ascending=False)\n",
        "\n",
        "# Display feature importance\n",
        "print(\"\\nFeature Importance:\")\n",
        "print(feature_importance)\n"
      ],
      "metadata": {
        "colab": {
          "base_uri": "https://localhost:8080/"
        },
        "id": "64uPbTUVZnPt",
        "outputId": "877b13b5-9421-40ee-f3e7-a76485671000"
      },
      "execution_count": 85,
      "outputs": [
        {
          "output_type": "stream",
          "name": "stdout",
          "text": [
            "Random Forest Classification Accuracy: 58.84%\n",
            "\n",
            "Feature Importance:\n",
            "                Feature  Importance\n",
            "1  sugar_to_fibre_ratio    0.698146\n",
            "0        energy_density    0.301854\n"
          ]
        }
      ]
    },
    {
      "cell_type": "markdown",
      "source": [
        "### VISUALIZATION 3: Feature Importance Bar Chart"
      ],
      "metadata": {
        "id": "7sLBBhadbAeC"
      }
    },
    {
      "cell_type": "code",
      "source": [
        "# Set the figure size for the bar plot\n",
        "plt.figure(figsize=(10, 6))\n",
        "\n",
        "# Create a bar plot for feature importance\n",
        "sns.barplot(x='Importance', y='Feature', data=feature_importance, palette='viridis')\n",
        "\n",
        "# Add title and labels to the plot\n",
        "plt.title('Feature Importance for Season Classification', fontsize=14)\n",
        "plt.xlabel('Importance', fontsize=12)\n",
        "plt.ylabel('Feature', fontsize=12)\n",
        "\n",
        "# Add grid lines for better readability\n",
        "plt.grid(True, linestyle='--', alpha=0.7)\n",
        "\n",
        "# Save the plot as a PNG image\n",
        "plt.savefig('feature_importance.png')\n",
        "\n",
        "# Display the plot\n",
        "plt.show()"
      ],
      "metadata": {
        "colab": {
          "base_uri": "https://localhost:8080/",
          "height": 680
        },
        "id": "Umn9iO6UZkdX",
        "outputId": "ac593ed5-e714-4358-b687-60c03253d599"
      },
      "execution_count": 86,
      "outputs": [
        {
          "output_type": "stream",
          "name": "stderr",
          "text": [
            "<ipython-input-86-c85b2f2e3ee7>:5: FutureWarning: \n",
            "\n",
            "Passing `palette` without assigning `hue` is deprecated and will be removed in v0.14.0. Assign the `y` variable to `hue` and set `legend=False` for the same effect.\n",
            "\n",
            "  sns.barplot(x='Importance', y='Feature', data=feature_importance, palette='viridis')\n"
          ]
        },
        {
          "output_type": "display_data",
          "data": {
            "text/plain": [
              "<Figure size 1000x600 with 1 Axes>"
            ],
            "image/png": "[encoded data removed]"
          },
          "metadata": {}
        }
      ]
    },
    {
      "cell_type": "markdown",
      "source": [
        "###VISUALIZATION 4: Confusion Matrix Heatmap\n",
        "\n",
        "Confusion matrix tracks classification accuracy"
      ],
      "metadata": {
        "id": "vy53kLYsa4jN"
      }
    },
    {
      "cell_type": "code",
      "source": [
        "# Convert predictions to pandas DataFrame for confusion matrix\n",
        "pred_pd = predictions.select('season_label', 'prediction').toPandas()\n",
        "\n",
        "# Generate confusion matrix\n",
        "cm = pd.crosstab(\n",
        "    pred_pd['season_label'],\n",
        "    pred_pd['prediction'],\n",
        "    rownames=['Actual'],\n",
        "    colnames=['Predicted']\n",
        ")\n",
        "\n",
        "# Set the figure size for the heatmap\n",
        "plt.figure(figsize=(8, 6))\n",
        "\n",
        "# Create a heatmap for the confusion matrix\n",
        "sns.heatmap(cm, annot=True, fmt='d', cmap='Blues',\n",
        "            xticklabels=['Summer', 'Winter'],\n",
        "            yticklabels=['Summer', 'Winter'])\n",
        "\n",
        "# Add title and labels to the plot\n",
        "plt.title('Confusion Matrix for Season Prediction', fontsize=14)\n",
        "plt.xlabel('Predicted Season', fontsize=12)\n",
        "plt.ylabel('Actual Season', fontsize=12)\n",
        "\n",
        "# Save the plot as a PNG image\n",
        "plt.savefig('confusion_matrix.png')\n",
        "\n",
        "# Display the plot\n",
        "plt.show()"
      ],
      "metadata": {
        "colab": {
          "base_uri": "https://localhost:8080/",
          "height": 569
        },
        "id": "88h9Kt58Yryy",
        "outputId": "debd5c55-98d2-4dff-8946-38c6dde88f56"
      },
      "execution_count": 87,
      "outputs": [
        {
          "output_type": "display_data",
          "data": {
            "text/plain": [
              "<Figure size 800x600 with 2 Axes>"
            ],
            "image/png": "[encoded data removed]"
          },
          "metadata": {}
        }
      ]
    },
    {
      "cell_type": "code",
      "source": [
        "# Calculate average energy density for Winter and Summer\n",
        "winter_energy = df.filter(F.col('season') == 'Winter').agg(F.avg('energy_density').alias('avg')).collect()[0]['avg']\n",
        "summer_energy = df.filter(F.col('season') == 'Summer').agg(F.avg('energy_density').alias('avg')).collect()[0]['avg']\n",
        "\n",
        "# Calculate average sugar to fibre ratio for Winter and Summer\n",
        "winter_ratio = df.filter(F.col('season') == 'Winter').agg(F.avg('sugar_to_fibre_ratio').alias('avg')).collect()[0]['avg']\n",
        "summer_ratio = df.filter(F.col('season') == 'Summer').agg(F.avg('sugar_to_fibre_ratio').alias('avg')).collect()[0]['avg']"
      ],
      "metadata": {
        "id": "fLqrPIcHYrvL"
      },
      "execution_count": 88,
      "outputs": []
    },
    {
      "cell_type": "code",
      "source": [
        "# Print summary\n",
        "print(\"\\n--- Summary of Results ---\")\n",
        "print(f\"Average Energy Density in Winter: {winter_energy:.2f} kcal\")\n",
        "print(f\"Average Energy Density in Summer: {summer_energy:.2f} kcal\")\n",
        "print(f\"Average Sugar/Fibre Ratio in Winter: {winter_ratio:.2f}\")\n",
        "print(f\"Average Sugar/Fibre Ratio in Summer: {summer_ratio:.2f}\")\n",
        "print(f\"ML Classification Accuracy: {accuracy:.2f}%\")\n",
        "print(f\"Most Important Feature: {feature_importance.iloc[0]['Feature']} (Importance: {feature_importance.iloc[0]['Importance']:.4f})\")\n",
        "\n"
      ],
      "metadata": {
        "colab": {
          "base_uri": "https://localhost:8080/"
        },
        "id": "KbMIJB6sYrsn",
        "outputId": "4c61a4de-62bd-4815-ddf8-5c6d1a5082f9"
      },
      "execution_count": 89,
      "outputs": [
        {
          "output_type": "stream",
          "name": "stdout",
          "text": [
            "\n",
            "--- Summary of Results ---\n",
            "Average Energy Density in Winter: 0.49 kcal\n",
            "Average Energy Density in Summer: 0.48 kcal\n",
            "Average Sugar/Fibre Ratio in Winter: 6.43\n",
            "Average Sugar/Fibre Ratio in Summer: 6.15\n",
            "ML Classification Accuracy: 58.84%\n",
            "Most Important Feature: sugar_to_fibre_ratio (Importance: 0.6981)\n"
          ]
        }
      ]
    },
    {
      "cell_type": "markdown",
      "source": [
        "## Stopping Spark session"
      ],
      "metadata": {
        "id": "UtPMmX9ldrCX"
      }
    },
    {
      "cell_type": "code",
      "source": [
        "spark.stop()"
      ],
      "metadata": {
        "id": "1zwgofH1YZsy"
      },
      "execution_count": 90,
      "outputs": []
    }
  ],
  "metadata": {
    "accelerator": "TPU",
    "colab": {
      "gpuType": "V28",
      "provenance": []
    },
    "kernelspec": {
      "display_name": "Python 3",
      "name": "python3"
    },
    "language_info": {
      "codemirror_mode": {
        "name": "ipython",
        "version": 3
      },
      "file_extension": ".py",
      "mimetype": "text/x-python",
      "name": "python",
      "nbconvert_exporter": "python",
      "pygments_lexer": "ipython3",
      "version": "3.10.9"
    }
  },
  "nbformat": 4,
  "nbformat_minor": 0
}